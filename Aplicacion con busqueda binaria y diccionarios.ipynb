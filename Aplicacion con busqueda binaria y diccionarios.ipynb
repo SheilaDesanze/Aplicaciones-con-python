{
 "cells": [
  {
   "cell_type": "markdown",
   "metadata": {},
   "source": [
    " ## Ejemplo Búsqueda binaria"
   ]
  },
  {
   "cell_type": "code",
   "execution_count": 4,
   "metadata": {
    "scrolled": true
   },
   "outputs": [
    {
     "name": "stdout",
     "output_type": "stream",
     "text": [
      "Ingresa un número: 2\n",
      "El número NO está en la lista.\n"
     ]
    }
   ],
   "source": [
    "def binary_search(numbers, number_to_find, low, high):\n",
    "\n",
    "    if low > high:\n",
    "        return False\n",
    "\n",
    "    mid = (low + high) / 2\n",
    "\n",
    "    if numbers[int(mid)] == number_to_find:     #es importante recalcar que el numbero debe ser int\n",
    "        return True\n",
    "    elif numbers[int(mid)] > number_to_find:\n",
    "        return binary_search(numbers, number_to_find, low, mid - 1)\n",
    "    else:\n",
    "        return binary_search(numbers, number_to_find, mid + 1, high)\n",
    "\n",
    "\n",
    "\n",
    "if __name__ == '__main__':\n",
    "    numbers = [1, 3, 4, 5, 6, 9, 10, 11, 25, 27, 28, 34, 36, 49, 51]\n",
    "\n",
    "    number_to_find = int(input('Ingresa un número: '))\n",
    "\n",
    "    result = binary_search(numbers, number_to_find, 0, len(numbers) - 1)\n",
    "\n",
    "    if result is True:\n",
    "        print('El número sí está en la lista.')\n",
    "    else:\n",
    "        print('El número NO está en la lista.')"
   ]
  },
  {
   "attachments": {},
   "cell_type": "markdown",
   "metadata": {},
   "source": [
    "## Ejemplos de Diccionarios\n",
    "\n",
    "![ejemplo de diccionarios 1](https://drive.google.com/file/d/1Do-wmzaTlH5h59fuLCTlC5GtD8cM-KX1/view?usp=sharing)\n",
    "\n",
    "![ejemplo de diccionarios 2](https://drive.google.com/open?id=1FT6h_Ogn9W6oKIG_RutOyJsxalCBmGiC)"
   ]
  }
 ],
 "metadata": {
  "kernelspec": {
   "display_name": "Python 3",
   "language": "python",
   "name": "python3"
  },
  "language_info": {
   "codemirror_mode": {
    "name": "ipython",
    "version": 3
   },
   "file_extension": ".py",
   "mimetype": "text/x-python",
   "name": "python",
   "nbconvert_exporter": "python",
   "pygments_lexer": "ipython3",
   "version": "3.7.1"
  }
 },
 "nbformat": 4,
 "nbformat_minor": 2
}
