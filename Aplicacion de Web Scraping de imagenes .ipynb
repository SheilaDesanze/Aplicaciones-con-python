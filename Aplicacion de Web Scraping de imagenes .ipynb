{
 "cells": [
  {
   "cell_type": "markdown",
   "metadata": {},
   "source": [
    "# Web Scraping de https://xkcd.com"
   ]
  },
  {
   "cell_type": "code",
   "execution_count": 3,
   "metadata": {},
   "outputs": [
    {
     "name": "stdout",
     "output_type": "stream",
     "text": [
      "Descargando la imagen barrel_cropped_(1).jpg\n",
      "Descargando la imagen tree_cropped_(1).jpg\n",
      "Descargando la imagen island_color.jpg\n",
      "Descargando la imagen landscape_cropped_(1).jpg\n",
      "Descargando la imagen blownapart_color.jpg\n",
      "Descargando la imagen irony_color.jpg\n",
      "Descargando la imagen girl_sleeping_noline_(1).jpg\n"
     ]
    }
   ],
   "source": [
    "#primer paso: importar dependencias a usar\n",
    "import requests\n",
    "from bs4 import BeautifulSoup  #importar la clase BeautifulSoup\n",
    "import urllib.request   #importar libreria para guardar imagenes\n",
    "\n",
    "\n",
    "#tercer paso: defino funcion run\n",
    "def run():\n",
    "    for i in range(1, 8):  #itero desde el 1 (que es la primer imagen) hasta donde llega el rango sin incluirlo\n",
    "        response = requests.get('https://xkcd.com/{}'.format(i)) #con request se inicia una solicitud a la pagina web, y utilizo la funcion get de request para obtener informacion del servidor\n",
    "                                                 #{}esto representa al numero, y formateo ese string para que tenga el numero del rango sobre el que se itera\n",
    "\n",
    "\n",
    "        #parsear el documento: creando una instancia para parsear el contenido de la respuesta. \n",
    "         #como primer parametro: para obtener la respuesta se accedera al atributo content de la misma\n",
    "         #como segundo parametro: le indico que el contenido que recibira es un html                             \n",
    "        soup = BeautifulSoup(response.content, 'html.parser')  #  <-- contenido parseado\n",
    "\n",
    "\n",
    "\n",
    "\n",
    "        #acceder al tag image: obtener el url que dice donde se encuentra la imagen\n",
    "\n",
    "        image_container = soup.find(id='comic')  #referencia a la etiqueta imagen:se le pide al documento parseado que encuentre la imagen con el nodo del id \"comic\" (*).\n",
    "\n",
    "        image_url = image_container.find('img')['src'] #obtener la url: uso el metodo find para encontrar la etiqueta img, y acceder al atributo source porque ahi se encuentra la info que necesito (**)\n",
    "        image_name = image_url.split('/')[-1]          #obtener la referencia de la imagen para poder guardarla: para poder guardarla con el nombre original con el que se guardo en el servidor tomo la url y la divido por las \"/\", obteniendo la referencia de la ultima diagonal\n",
    "       \n",
    "\n",
    "        print('Descargando la imagen {}'.format(image_name)) #como nombre de la imagen va la string creada\n",
    "                                                             \n",
    "\n",
    "        urllib.request.urlretrieve('https:{}'.format(image_url), image_name)   #guardo la imagen: utilizo la libreria urllib.request \n",
    "        #utilizo la funcion urlretrive, parametros: url de donde se encuentra la imagen, nombre del archivo con el cual se guardara la imagen.\n",
    "        #las imagenes se guardaran en el mismo directorio donde se ejecute el programa\n",
    "\n",
    "\n",
    "#segundo paso: genero punto de acceso\n",
    "if __name__ == '__main__':\n",
    "    run()"
   ]
  },
  {
   "cell_type": "markdown",
   "metadata": {},
   "source": [
    "(aqui solo está hecho para 7 imagenes, podria haberlo hecho para las casi dos mil que hay cargadas en la pagina)"
   ]
  }
 ],
 "metadata": {
  "kernelspec": {
   "display_name": "Python 3",
   "language": "python",
   "name": "python3"
  },
  "language_info": {
   "codemirror_mode": {
    "name": "ipython",
    "version": 3
   },
   "file_extension": ".py",
   "mimetype": "text/x-python",
   "name": "python",
   "nbconvert_exporter": "python",
   "pygments_lexer": "ipython3",
   "version": "3.7.1"
  }
 },
 "nbformat": 4,
 "nbformat_minor": 2
}
