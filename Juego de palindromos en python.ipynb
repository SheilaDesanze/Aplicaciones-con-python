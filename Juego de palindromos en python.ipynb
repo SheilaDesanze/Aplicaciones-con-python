{
 "cells": [
  {
   "cell_type": "markdown",
   "metadata": {},
   "source": [
    "# Calcular si una palabra es palíndromo con python\n",
    "(palindromo: una palabra que se lee igual del derecho y del reves)"
   ]
  },
  {
   "cell_type": "code",
   "execution_count": 6,
   "metadata": {},
   "outputs": [
    {
     "name": "stdout",
     "output_type": "stream",
     "text": [
      "Escribe una palabra: neuquen\n",
      "neuquen sí es un palindromo\n"
     ]
    }
   ],
   "source": [
    "\n",
    "def palindrome(word):\n",
    "    #revertiremos una palabra para ver si se escribe igual al derecho y al reves\n",
    "    reversed_letters = []   #se inicializa como una lista vacia\n",
    "    \n",
    "    for letter in word:\n",
    "        reversed_letters.insert(0, letter)\n",
    "        #insertar la letra en el indice 0 y luego como segundo parametro agrega la letra en el metodo insert, esto agregara un nuevo elemento a la secuencia\n",
    "    \n",
    "    #unir la secuencia y convertirla de nuevo en un string   \n",
    "    #para eso, creo nueva variable con la string vacia y con el metodo join que recibe una secuencia de caracteres, esta sera reverse_letters\n",
    "    reversed_word = ''.join(reversed_letters)\n",
    "    \n",
    "    #la variable al derecho es \"word\", y la variable al reves es \"reverse_word\"\n",
    "    # si ambas palabras son iguales se esta frente a un palindromo, sino significa que la palabra no lo es\n",
    "    \n",
    "    if reversed_word == word:\n",
    "        return True\n",
    "    else:\n",
    "        return False\n",
    "\n",
    "\n",
    "\n",
    "\n",
    "\n",
    "#lo primero que hago es escribir el if name main y lo que implica, y luego paso arriba a escribir todo lo que se define para word:\n",
    "if __name__=='__main__':\n",
    "    #SE BUSCA CAPTURAR UN INPUT ASIGNADO A LA VARIABLE WORD\n",
    "    word = str(input(\"Escribe una palabra: \"))\n",
    "    palindrome(word)      #llamo la funcion palindrome que tiene como parametro a word                 \n",
    "\n",
    "    \n",
    "    \n",
    "#esto lo hago al final de todo    \n",
    "    result = palindrome(word)\n",
    "    if result is True:\n",
    "        print('{} sí es un palindromo'.format(word)) #con {} expreso que cualquiera se la palabra que ingresa el usuario va ahi, con format indico que se llenara ese espacio con la variable del parametro, en ese caso con word\n",
    "    else:\n",
    "        print('{} no es un palindromo'. format(word))\n",
    "        "
   ]
  },
  {
   "cell_type": "markdown",
   "metadata": {},
   "source": [
    "#HACIENDO LO MISMO CON SLICE:"
   ]
  },
  {
   "cell_type": "code",
   "execution_count": 18,
   "metadata": {},
   "outputs": [
    {
     "name": "stdout",
     "output_type": "stream",
     "text": [
      "Escribe una palabra: neuquen\n",
      "neuquen sí es un palindromo\n"
     ]
    }
   ],
   "source": [
    "#generando una nueva funcion que tiene como parametro la palabra word\n",
    "def palindrome2(word):\n",
    "    reversed_word = word[:: -1]\n",
    "    #para revertir la palabra usamos la notacion de slice\n",
    "    #en slice el primer pedazo es desde donde se empieza, el siguente es donde se termina, y si se dejan vacios son el principio y el final respectivamente. si se escribr [::]  se refiere a la palabra desde el principio hasta el final \n",
    "    # el ultimo lugar es para los steps, y si tiene un -1 implica que empieza de atras para adelante\n",
    "    # se generara una nueva secuencia de caracteres que empieza de atras hacia adelante \n",
    "    \n",
    "    if reversed_word == word:\n",
    "        print('{} sí es un palindromo'.format(word))\n",
    "    else:\n",
    "        print('{} no es un palindromo'. format(word))\n",
    "    \n",
    "    \n",
    "if __name__=='__main__':\n",
    "    #SE BUSCA CAPTURAR UN INPUT ASIGNADO A LA VARIABLE WORD\n",
    "        word = str(input(\"Escribe una palabra: \"))\n",
    "        palindrome2(word)\n",
    "\n",
    "    \n"
   ]
  }
 ],
 "metadata": {
  "kernelspec": {
   "display_name": "Python 3",
   "language": "python",
   "name": "python3"
  },
  "language_info": {
   "codemirror_mode": {
    "name": "ipython",
    "version": 3
   },
   "file_extension": ".py",
   "mimetype": "text/x-python",
   "name": "python",
   "nbconvert_exporter": "python",
   "pygments_lexer": "ipython3",
   "version": "3.7.1"
  }
 },
 "nbformat": 4,
 "nbformat_minor": 2
}
