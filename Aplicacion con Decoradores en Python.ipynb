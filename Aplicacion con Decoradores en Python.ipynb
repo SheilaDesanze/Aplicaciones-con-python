{
 "cells": [
  {
   "cell_type": "markdown",
   "metadata": {},
   "source": [
    "# Aplicación con Decoradores en Python"
   ]
  },
  {
   "cell_type": "code",
   "execution_count": 2,
   "metadata": {},
   "outputs": [
    {
     "name": "stdout",
     "output_type": "stream",
     "text": [
      "Ingresa tu contraseña: hola\n",
      "La contraseña es incorrecta\n"
     ]
    }
   ],
   "source": [
    "#tercer paso: la funcion protegida no recibe el parametro contraseña, asi que para protegerla podemos declarar otra funcion que RECIBE COMO PARAMETRO A OTRA FUNCION. \n",
    "def protected(func):\n",
    "    #cuarto paso: declaro otra funcion aqui dentro, que recibe como parametro a la contraseña\n",
    "    def wrapper(password):\n",
    "\n",
    "        if password == 'sheila': \n",
    "            return func()           #si la contraseña es igual a \"sheila\" se ejecutara la funcion\n",
    "        else:\n",
    "            print('La contraseña es incorrecta')    ##si la contraseña NO es igual a \"sheila\" NO SE PERMITIRA QUE SE EJECUTE LA FUNCION, solamente se dira que la constraseña es incorrecta\n",
    "\n",
    "    return wrapper  #la funcion protected regresa a la funcion wrapper \n",
    "\n",
    "\n",
    "\n",
    "\n",
    "#quinto paso: para poder realizar este computo es necesario el uso del decorador: se \"decora\" la funcion protected_func al encapsular su comportamiento dentro del wrapper (la cual si se recibe el password correcto se ejecuta y sino solamente dice que es incorrecto)\n",
    "@protected\n",
    "\n",
    "#primer paso: defino\n",
    "def protected_func():\n",
    "    print('Tu contraseña es correcta.')\n",
    "\n",
    "\n",
    "#segundo paso: genero un punto de acceso al programa para poder ejecutar la funcion definida\n",
    "if __name__ == '__main__':\n",
    "    password = str(input('Ingresa tu contraseña: '))\n",
    "    \n",
    "    #se le pasa a la funcion protegida la contraseña\n",
    "    protected_func(password)"
   ]
  },
  {
   "cell_type": "code",
   "execution_count": 3,
   "metadata": {},
   "outputs": [
    {
     "name": "stdout",
     "output_type": "stream",
     "text": [
      "Ingresa tu contraseña: sheila\n",
      "Tu contraseña es correcta.\n"
     ]
    }
   ],
   "source": [
    "#tercer paso: la funcion protegida no recibe el parametro contraseña, asi que para protegerla podemos declarar otra funcion que RECIBE COMO PARAMETRO A OTRA FUNCION. \n",
    "def protected(func):\n",
    "    #cuarto paso: declaro otra funcion aqui dentro, que recibe como parametro a la contraseña\n",
    "    def wrapper(password):\n",
    "\n",
    "        if password == 'sheila': \n",
    "            return func()           #si la contraseña es igual a \"sheila\" se ejecutara la funcion\n",
    "        else:\n",
    "            print('La contraseña es incorrecta')    ##si la contraseña NO es igual a \"sheila\" NO SE PERMITIRA QUE SE EJECUTE LA FUNCION, solamente se dira que la constraseña es incorrecta\n",
    "\n",
    "    return wrapper  #la funcion protected regresa a la funcion wrapper \n",
    "\n",
    "\n",
    "\n",
    "\n",
    "#quinto paso: para poder realizar este computo es necesario el uso del decorador: se \"decora\" la funcion protected_func al encapsular su comportamiento dentro del wrapper (la cual si se recibe el password correcto se ejecuta y sino solamente dice que es incorrecto)\n",
    "@protected\n",
    "\n",
    "#primer paso: defino\n",
    "def protected_func():\n",
    "    print('Tu contraseña es correcta.')\n",
    "\n",
    "\n",
    "#segundo paso: genero un punto de acceso al programa para poder ejecutar la funcion definida\n",
    "if __name__ == '__main__':\n",
    "    password = str(input('Ingresa tu contraseña: '))\n",
    "    \n",
    "    #se le pasa a la funcion protegida la contraseña\n",
    "    protected_func(password)"
   ]
  }
 ],
 "metadata": {
  "kernelspec": {
   "display_name": "Python 3",
   "language": "python",
   "name": "python3"
  },
  "language_info": {
   "codemirror_mode": {
    "name": "ipython",
    "version": 3
   },
   "file_extension": ".py",
   "mimetype": "text/x-python",
   "name": "python",
   "nbconvert_exporter": "python",
   "pygments_lexer": "ipython3",
   "version": "3.7.1"
  }
 },
 "nbformat": 4,
 "nbformat_minor": 2
}
