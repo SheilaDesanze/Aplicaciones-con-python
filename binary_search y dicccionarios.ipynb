{
  "nbformat": 4,
  "nbformat_minor": 0,
  "metadata": {
    "colab": {
      "name": "binary search.ipynb",
      "version": "0.3.2",
      "provenance": [],
      "collapsed_sections": []
    },
    "kernelspec": {
      "name": "python3",
      "display_name": "Python 3"
    }
  },
  "cells": [
    {
      "cell_type": "markdown",
      "metadata": {
        "id": "K6kTSPc1X7lD",
        "colab_type": "text"
      },
      "source": [
        "Vid 25 curso python"
      ]
    },
    {
      "cell_type": "code",
      "metadata": {
        "id": "gv3-gx2HTA3s",
        "colab_type": "code",
        "outputId": "361cbc5d-588f-41bb-d21b-d51eeefcc4ad",
        "colab": {
          "base_uri": "https://localhost:8080/",
          "height": 50
        }
      },
      "source": [
        "def binary_search(numbers, number_to_find, low, high):\n",
        "\n",
        "    if low > high:\n",
        "        return False\n",
        "\n",
        "    mid = (low + high) / 2\n",
        "\n",
        "    if numbers[int(mid)] == number_to_find:\n",
        "        return True\n",
        "    elif numbers[int(mid)] > number_to_find:\n",
        "        return binary_search(numbers, number_to_find, low, mid - 1)\n",
        "    else:\n",
        "        return binary_search(numbers, number_to_find, mid + 1, high)\n",
        "\n",
        "\n",
        "\n",
        "if __name__ == '__main__':\n",
        "    numbers = [1, 3, 4, 5, 6, 9, 10, 11, 25, 27, 28, 34, 36, 49, 51]\n",
        "\n",
        "    number_to_find = int(input('Ingresa un número: '))\n",
        "\n",
        "    result = binary_search(numbers, number_to_find, 0, len(numbers) - 1)\n",
        "\n",
        "    if result is True:\n",
        "        print('El número sí está en la lista.')\n",
        "    else:\n",
        "        print('El número NO está en la lista.')"
      ],
      "execution_count": 0,
      "outputs": [
        {
          "output_type": "stream",
          "text": [
            "Ingresa un número: 2\n",
            "El número NO está en la lista.\n"
          ],
          "name": "stdout"
        }
      ]
    },
    {
      "cell_type": "code",
      "metadata": {
        "id": "4v0Y0_XITBIK",
        "colab_type": "code",
        "colab": {}
      },
      "source": [
        ""
      ],
      "execution_count": 0,
      "outputs": []
    },
    {
      "cell_type": "markdown",
      "metadata": {
        "id": "zAl3nJi1Yzts",
        "colab_type": "text"
      },
      "source": [
        "![ejemplo de diccionarios 1](https://drive.google.com/file/d/1Do-wmzaTlH5h59fuLCTlC5GtD8cM-KX1/view?usp=sharing)"
      ]
    },
    {
      "cell_type": "markdown",
      "metadata": {
        "id": "zqhzbI1zafnP",
        "colab_type": "text"
      },
      "source": [
        "![ejemplo de diccionarios 2](https://drive.google.com/open?id=1FT6h_Ogn9W6oKIG_RutOyJsxalCBmGiC)\n",
        "\n",
        "---\n",
        "\n"
      ]
    },
    {
      "cell_type": "code",
      "metadata": {
        "id": "GrLCjwQbTBCE",
        "colab_type": "code",
        "colab": {}
      },
      "source": [
        ""
      ],
      "execution_count": 0,
      "outputs": []
    },
    {
      "cell_type": "code",
      "metadata": {
        "id": "6zkbUIcGTA8S",
        "colab_type": "code",
        "colab": {}
      },
      "source": [
        ""
      ],
      "execution_count": 0,
      "outputs": []
    },
    {
      "cell_type": "code",
      "metadata": {
        "id": "xG3MXT7ETA2_",
        "colab_type": "code",
        "colab": {}
      },
      "source": [
        ""
      ],
      "execution_count": 0,
      "outputs": []
    }
  ]
}