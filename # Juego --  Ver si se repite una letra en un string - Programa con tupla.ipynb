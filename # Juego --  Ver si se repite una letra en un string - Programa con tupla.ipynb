{
 "cells": [
  {
   "cell_type": "markdown",
   "metadata": {},
   "source": [
    "# Se repite una letra en un string - Programa con tupla"
   ]
  },
  {
   "cell_type": "markdown",
   "metadata": {},
   "source": [
    "Vamos a construir un programa que nos permita encontrar el primer carácter que no se repite en un string. Por ejemplo: si tenemos el string \"mimamameama\" el primer caracter que no se repite es la i."
   ]
  },
  {
   "cell_type": "markdown",
   "metadata": {},
   "source": [
    "https://platzi.com/clases/1104-python/7107-ejemplo-con-tupl-3/"
   ]
  },
  {
   "cell_type": "code",
   "execution_count": 2,
   "metadata": {},
   "outputs": [
    {
     "name": "stdout",
     "output_type": "stream",
     "text": [
      "Escribe una secuencia de caracteres: abacabaabacaba\n",
      "Todos los caracteres se repiten.\n"
     ]
    }
   ],
   "source": [
    "\"\"\"\n",
    "\"abacabad\" c\n",
    "\"abacabaabacaba\" _\n",
    "\"abcdefghijklmnopqrstuvwxyziflskecznslkjfabe\" d\n",
    "\"bcccccccccccccyb\" y\n",
    "\"\"\"\n",
    "\n",
    "def first_not_repeating_char(char_sequence):\n",
    "    #creo la variable seen_leeters y la inicializo como un diccionario vacio\n",
    "    seen_letters = {}\n",
    "    \n",
    "    #itero a lo largo de toda la secuencia de caracteres, obteniendo el indice y cada una de las letras dentro de la secuencia de caracteres\n",
    "    for idx, letter in enumerate(char_sequence):\n",
    "        #una vez que se tiene el indice y la letra lo primero que se quiere evaluar es si la letra ya se vio antes \n",
    "        if letter not in seen_letters:  \n",
    "            seen_letters[letter] = (idx, 1)   #se utiliza a la letra como la llave para el diccionario. como valor utilizaremos a una tupla, ya que es una estructura de datos ligera util para guardar valores. Guardaremos ahi al indice y cuantas veces se ha visto la letra (1 por ser la primera vez que la vemos)\n",
    "        else: #si ya habiamos visto la letra\n",
    "            seen_letters[letter] = (seen_letters[letter][0], seen_letters[letter][1] + 1)  #modificamos la tupla que esta dentro de la llave con esa letra y obtenemos el primer valor de esa tupla accediendo a traves de indices. En el segundo espacio pondremos la funcion asignada al segundo valor, llamando con el indice 1, es decir llamo a cuantas veces se ha visto, y se le sumará 1. \n",
    "\n",
    "    #resumen: seen_letters se vería como un dicionario con dos valores: (con el indice de la primera vez que se vio, y con cuantas veces se vio esa letra). Es un diccionario que va de una letra a una tupla \n",
    "    \n",
    "    \n",
    "    \n",
    "    \n",
    "    #el objetivo ahora es limpiar ese diccionario descripto en el resumen de lo hecho anteriormente y quedarse unicamente con las letras que nada mas se vieron una sola vez       \n",
    "    #creo una variable que almacenara una tupla que diga que letra se vio una sola vez nada mas y en que indice se encuentra \n",
    "    final_letters = []\n",
    "    #itero, para llaves y valores con el metodo de iterar los items\n",
    "    for key, value in seen_letters.items():\n",
    "        if value[1] == 1:  #en el valor 1 se tiene almacenado cuantas veces se vio, entonces si la cantidad de veces que se vio es == 1 \n",
    "            final_letters.append( (key, value[0]) )  #si se vio una vez se incluira una nueva tupla dentro de final_letters, con los valores: letra, y el indice donde se encuentra dicha letra.\n",
    "                                                     #si se vio mas de una vez, ignorarla\n",
    "\n",
    "    #resumen: Se obtiene una lista de tuplas que almacena la letra y el indice donde se vio por primera vez            \n",
    "                \n",
    "                \n",
    "   #se ordena la lista de tuplas: se define ese orden con el indice de la primera letra que no se vio              \n",
    "    not_repeated_letters = sorted(final_letters, key=lambda value: value[1])  #para ordenarla se usa el metodo sorted, que recibe una secuencia: como primer parametro la lista final_letters, como segundo parametro recibe una llave para indicar como ordenarlo y para eso se usa una lambda (una funcion de una linea que recibe el valor tupla y regresara el segundo valor de la secuencia, o sea conforme al indice)\n",
    "\n",
    "    \n",
    "    \n",
    "\n",
    "    if not_repeated_letters:                #si notrepeatedletters tiene algo\n",
    "        return not_repeated_letters[0][0]   #se regresara el primer valor -el 0- de la lista(que es una tupla), y el primer valor -el 0- de esa tupla (que es la letra)\n",
    "    else:                                   #si notrepeatedletters no tiene nada y esta vacia la lista\n",
    "        return '_'                          #se regresara \"_\"\n",
    "\n",
    "\n",
    "if __name__ == '__main__':\n",
    "    char_sequence = str(input('Escribe una secuencia de caracteres: '))\n",
    "\n",
    "    result = first_not_repeating_char(char_sequence)\n",
    "\n",
    "    if result == '_':\n",
    "        print('Todos los caracteres se repiten.')\n",
    "    else:\n",
    "        print('El primer caracter no repetido es: {}'.format(result))"
   ]
  },
  {
   "cell_type": "code",
   "execution_count": 3,
   "metadata": {},
   "outputs": [
    {
     "name": "stdout",
     "output_type": "stream",
     "text": [
      "Escribe una secuencia de caracteres: abacabad\n",
      "El primer caracter no repetido es: c\n"
     ]
    }
   ],
   "source": [
    "\"\"\"\n",
    "\"abacabad\" c\n",
    "\"abacabaabacaba\" _\n",
    "\"abcdefghijklmnopqrstuvwxyziflskecznslkjfabe\" d\n",
    "\"bcccccccccccccyb\" y\n",
    "\"\"\"\n",
    "\n",
    "def first_not_repeating_char(char_sequence):\n",
    "    #creo la variable seen_leeters y la inicializo como un diccionario vacio\n",
    "    seen_letters = {}\n",
    "    \n",
    "    #itero a lo largo de toda la secuencia de caracteres, obteniendo el indice y cada una de las letras dentro de la secuencia de caracteres\n",
    "    for idx, letter in enumerate(char_sequence):\n",
    "        #una vez que se tiene el indice y la letra lo primero que se quiere evaluar es si la letra ya se vio antes \n",
    "        if letter not in seen_letters:  \n",
    "            seen_letters[letter] = (idx, 1)   #se utiliza a la letra como la llave para el diccionario. como valor utilizaremos a una tupla, ya que es una estructura de datos ligera util para guardar valores. Guardaremos ahi al indice y cuantas veces se ha visto la letra (1 por ser la primera vez que la vemos)\n",
    "        else: #si ya habiamos visto la letra\n",
    "            seen_letters[letter] = (seen_letters[letter][0], seen_letters[letter][1] + 1)  #modificamos la tupla que esta dentro de la llave con esa letra y obtenemos el primer valor de esa tupla accediendo a traves de indices. En el segundo espacio pondremos la funcion asignada al segundo valor, llamando con el indice 1, es decir llamo a cuantas veces se ha visto, y se le sumará 1. \n",
    "\n",
    "    #resumen: seen_letters se vería como un dicionario con dos valores: (con el indice de la primera vez que se vio, y con cuantas veces se vio esa letra). Es un diccionario que va de una letra a una tupla \n",
    "    \n",
    "    \n",
    "    \n",
    "    \n",
    "    #el objetivo ahora es limpiar ese diccionario descripto en el resumen de lo hecho anteriormente y quedarse unicamente con las letras que nada mas se vieron una sola vez       \n",
    "    #creo una variable que almacenara una tupla que diga que letra se vio una sola vez nada mas y en que indice se encuentra \n",
    "    final_letters = []\n",
    "    #itero, para llaves y valores con el metodo de iterar los items\n",
    "    for key, value in seen_letters.items():\n",
    "        if value[1] == 1:  #en el valor 1 se tiene almacenado cuantas veces se vio, entonces si la cantidad de veces que se vio es == 1 \n",
    "            final_letters.append( (key, value[0]) )  #si se vio una vez se incluira una nueva tupla dentro de final_letters, con los valores: letra, y el indice donde se encuentra dicha letra.\n",
    "                                                     #si se vio mas de una vez, ignorarla\n",
    "\n",
    "    #resumen: Se obtiene una lista de tuplas que almacena la letra y el indice donde se vio por primera vez            \n",
    "                \n",
    "                \n",
    "   #se ordena la lista de tuplas: se define ese orden con el indice de la primera letra que no se vio              \n",
    "    not_repeated_letters = sorted(final_letters, key=lambda value: value[1])  #para ordenarla se usa el metodo sorted, que recibe una secuencia: como primer parametro la lista final_letters, como segundo parametro recibe una llave para indicar como ordenarlo y para eso se usa una lambda (una funcion de una linea que recibe el valor tupla y regresara el segundo valor de la secuencia, o sea conforme al indice)\n",
    "\n",
    "    \n",
    "    \n",
    "\n",
    "    if not_repeated_letters:                #si notrepeatedletters tiene algo\n",
    "        return not_repeated_letters[0][0]   #se regresara el primer valor -el 0- de la lista(que es una tupla), y el primer valor -el 0- de esa tupla (que es la letra)\n",
    "    else:                                   #si notrepeatedletters no tiene nada y esta vacia la lista\n",
    "        return '_'                          #se regresara \"_\"\n",
    "\n",
    "\n",
    "if __name__ == '__main__':\n",
    "    char_sequence = str(input('Escribe una secuencia de caracteres: '))\n",
    "\n",
    "    result = first_not_repeating_char(char_sequence)\n",
    "\n",
    "    if result == '_':\n",
    "        print('Todos los caracteres se repiten.')\n",
    "    else:\n",
    "        print('El primer caracter no repetido es: {}'.format(result))"
   ]
  },
  {
   "cell_type": "code",
   "execution_count": null,
   "metadata": {},
   "outputs": [],
   "source": []
  }
 ],
 "metadata": {
  "kernelspec": {
   "display_name": "Python 3",
   "language": "python",
   "name": "python3"
  },
  "language_info": {
   "codemirror_mode": {
    "name": "ipython",
    "version": 3
   },
   "file_extension": ".py",
   "mimetype": "text/x-python",
   "name": "python",
   "nbconvert_exporter": "python",
   "pygments_lexer": "ipython3",
   "version": "3.7.1"
  }
 },
 "nbformat": 4,
 "nbformat_minor": 2
}
