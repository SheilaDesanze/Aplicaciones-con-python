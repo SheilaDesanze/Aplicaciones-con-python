{
 "cells": [
  {
   "cell_type": "markdown",
   "metadata": {},
   "source": [
    "# Manejo de archivos con python"
   ]
  },
  {
   "cell_type": "markdown",
   "metadata": {},
   "source": [
    "Con Python también podemos leer y escribir archivos del sistema.\n",
    "Existen varios modos en los que podemos manejar archivos\n",
    "‘r’ = leer\n",
    "’w’ = escribir\n",
    "’a’ = añadir\n",
    "’r+’ = leer y escribir\n",
    "Siempre recuerda cerrar el archivo. El keyword with nos permite manejar el contexto al trabajar con archivos."
   ]
  },
  {
   "cell_type": "code",
   "execution_count": 1,
   "metadata": {},
   "outputs": [],
   "source": [
    "def run():\n",
    "    with open('numeros.txt', 'w') as f: #Se abre el archivo dentro del context manager con with (si el archivo existe se sobreescribira y si no se creara). Se abre en modo \"write\"\n",
    "        for i in range(10):  #por cada numero en el rango del 0 al 9 \n",
    "            f.write(str(i))   #se escribira dicho numero en string (ya que en un rango hay nros enteros)\n",
    "\n",
    "\n",
    "if __name__ == '__main__':\n",
    "    run()\n",
    "    \n",
    "    \n",
    "#acá no se mostrara una salida pero en una computadora se creara el archivo en la misma carpeta donde estaba este .py, y en el caso de anaconda se crea en el localhost de jupyter"
   ]
  },
  {
   "cell_type": "markdown",
   "metadata": {},
   "source": [
    "----------- # ---------------"
   ]
  },
  {
   "cell_type": "markdown",
   "metadata": {},
   "source": [
    "Contar cuantas veces en el texto aparece \"beatriz\" en un cuento de Borges:"
   ]
  },
  {
   "cell_type": "code",
   "execution_count": 4,
   "metadata": {},
   "outputs": [
    {
     "name": "stdout",
     "output_type": "stream",
     "text": [
      "Beatriz se encuentra 27 en el texto\n"
     ]
    }
   ],
   "source": [
    "def run():\n",
    "    counter = 0\n",
    "    with open('aleph.txt', encoding='utf-8') as f: #es importante indicar la codificación utf-8 mediante el argumento encoding en la función open\n",
    "        for line in f: #line es un string, y se querra contar cuantas veces dentro de este string se encuentra beatriz\n",
    "            counter += line.count('Beatriz')\n",
    "\n",
    "    print('Beatriz se encuentra {} en el texto'.format(counter))\n",
    "\n",
    "\n",
    "if __name__ == '__main__':\n",
    "    run()"
   ]
  }
 ],
 "metadata": {
  "kernelspec": {
   "display_name": "Python 3",
   "language": "python",
   "name": "python3"
  },
  "language_info": {
   "codemirror_mode": {
    "name": "ipython",
    "version": 3
   },
   "file_extension": ".py",
   "mimetype": "text/x-python",
   "name": "python",
   "nbconvert_exporter": "python",
   "pygments_lexer": "ipython3",
   "version": "3.7.1"
  }
 },
 "nbformat": 4,
 "nbformat_minor": 2
}
